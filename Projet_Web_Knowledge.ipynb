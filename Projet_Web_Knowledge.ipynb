{
 "cells": [
  {
   "cell_type": "markdown",
   "id": "e989f4f0-768d-48a8-be86-03d175c88ff0",
   "metadata": {
    "tags": []
   },
   "source": [
    " # Web data mining & semantics Project"
   ]
  },
  {
   "cell_type": "markdown",
   "id": "b21fdd9d-1603-4b15-a5e6-8a737b8fa017",
   "metadata": {
    "jp-MarkdownHeadingCollapsed": true,
    "tags": []
   },
   "source": [
    "### Load libraries and file pathes"
   ]
  },
  {
   "cell_type": "code",
   "execution_count": 1,
   "id": "73e3163f-f63e-4fec-b3a7-849436af237e",
   "metadata": {
    "tags": []
   },
   "outputs": [
    {
     "name": "stdout",
     "output_type": "stream",
     "text": [
      "Requirement already satisfied: rdflib in /Users/arianerousseau/anaconda3/lib/python3.10/site-packages (7.0.0)\n",
      "Requirement already satisfied: isodate<0.7.0,>=0.6.0 in /Users/arianerousseau/anaconda3/lib/python3.10/site-packages (from rdflib) (0.6.1)\n",
      "Requirement already satisfied: pyparsing<4,>=2.1.0 in /Users/arianerousseau/anaconda3/lib/python3.10/site-packages (from rdflib) (3.0.9)\n",
      "Requirement already satisfied: six in /Users/arianerousseau/anaconda3/lib/python3.10/site-packages (from isodate<0.7.0,>=0.6.0->rdflib) (1.16.0)\n",
      "Note: you may need to restart the kernel to use updated packages.\n"
     ]
    }
   ],
   "source": [
    "pip install rdflib"
   ]
  },
  {
   "cell_type": "code",
   "execution_count": 2,
   "id": "69b0077f-6bda-4aec-9478-bc05c1985f2e",
   "metadata": {
    "tags": []
   },
   "outputs": [],
   "source": [
    "from rdflib import Graph, Namespace, RDF, RDFS, Literal, URIRef\n",
    "from rdflib.plugins.sparql import prepareQuery\n",
    "from rdflib.namespace import XSD\n",
    "import numpy as np"
   ]
  },
  {
   "cell_type": "code",
   "execution_count": 16,
   "id": "7e1f578d-e158-452c-ba56-f29ee9655f6d",
   "metadata": {
    "tags": []
   },
   "outputs": [
    {
     "data": {
      "text/plain": [
       "<Graph identifier=N9f8a02a32f8244e39e45fb3bb3268d5c (<class 'rdflib.graph.Graph'>)>"
      ]
     },
     "execution_count": 16,
     "metadata": {},
     "output_type": "execute_result"
    }
   ],
   "source": [
    "# path to rdf file and ontology\n",
    "rdf_file = 'Project.rdf'\n",
    "mon_ns = Namespace('http://www.semanticweb.org/efrei/ontologies/2024/6/untitled-ontology-3#')\n",
    "\n",
    "# load RDF file in a RDF graph \n",
    "g = Graph()\n",
    "g.parse(rdf_file, format='xml')"
   ]
  },
  {
   "cell_type": "markdown",
   "id": "14465deb-0843-4a58-8aea-d200f161aa5e",
   "metadata": {
    "jp-MarkdownHeadingCollapsed": true,
    "tags": []
   },
   "source": [
    "### Question 1 - displays all the Persons"
   ]
  },
  {
   "cell_type": "code",
   "execution_count": 17,
   "id": "2b01328d-7e04-4457-abdf-04c56e6bfd2a",
   "metadata": {
    "tags": []
   },
   "outputs": [
    {
     "name": "stdout",
     "output_type": "stream",
     "text": [
      "Clients found in the RDF graph:\n",
      "http://www.semanticweb.org/efrei/ontologies/2024/6/untitled-ontology-3#Walid\n",
      "\n",
      "Deliverymen found in the RDF graph:\n",
      "http://www.semanticweb.org/efrei/ontologies/2024/6/untitled-ontology-3#Jenna\n",
      "http://www.semanticweb.org/efrei/ontologies/2024/6/untitled-ontology-3#Pierre\n",
      "http://www.semanticweb.org/efrei/ontologies/2024/6/untitled-ontology-3#Valentin\n"
     ]
    }
   ],
   "source": [
    "# Look for all instances of Client in the graph\n",
    "clients = g.subjects(RDF.type, mon_ns.Client)\n",
    "\n",
    "# Display Clients\n",
    "print(\"Clients found in the RDF graph:\")\n",
    "\n",
    "for client in clients:\n",
    "    print(client)\n",
    "\n",
    "# Look for all instances of Deliveryman in the graph\n",
    "deliverymen = g.subjects(RDF.type, mon_ns.Deliveryman)\n",
    "\n",
    "# Display Deliveryman\n",
    "print(\"\\nDeliverymen found in the RDF graph:\")\n",
    "\n",
    "for deliveryman in deliverymen:\n",
    "    print(deliveryman)\n"
   ]
  },
  {
   "cell_type": "markdown",
   "id": "235ca3c9-177a-437b-ac9b-f96e586e39e0",
   "metadata": {
    "jp-MarkdownHeadingCollapsed": true,
    "tags": []
   },
   "source": [
    "### Question 2 - displays all the Persons (using a query, without inference)"
   ]
  },
  {
   "cell_type": "code",
   "execution_count": 13,
   "id": "ae865059-34ca-4523-92f2-2e1016ed09a2",
   "metadata": {
    "tags": []
   },
   "outputs": [
    {
     "name": "stdout",
     "output_type": "stream",
     "text": [
      "Clients and Deliverymen found in the RDF graph:\n",
      "http://www.semanticweb.org/efrei/ontologies/2024/6/untitled-ontology-3#Walid\n",
      "http://www.semanticweb.org/efrei/ontologies/2024/6/untitled-ontology-3#Jenna\n",
      "http://www.semanticweb.org/efrei/ontologies/2024/6/untitled-ontology-3#Pierre\n",
      "http://www.semanticweb.org/efrei/ontologies/2024/6/untitled-ontology-3#Valentin\n"
     ]
    }
   ],
   "source": [
    "# Path to txt file\n",
    "query_file = 'data/query_persons.txt'\n",
    "\n",
    "# Load SPARQL query from file\n",
    "with open(query_file, 'r', encoding='utf-8') as f:\n",
    "    query_str = f.read()\n",
    "\n",
    "# Prepae SPARQL query\n",
    "query = prepareQuery(query_str)\n",
    "\n",
    "# Execute query and get result\n",
    "results = g.query(query)\n",
    "\n",
    "# Display result\n",
    "print(\"Clients and Deliverymen found in the RDF graph:\")\n",
    "\n",
    "for row in results:\n",
    "    print(row.person)\n"
   ]
  },
  {
   "cell_type": "markdown",
   "id": "7cc6cae3-b2a8-43c6-a2b0-ce6284b1aaae",
   "metadata": {
    "jp-MarkdownHeadingCollapsed": true,
    "tags": []
   },
   "source": [
    "### Question 3 - Restaurants serving Italian food"
   ]
  },
  {
   "cell_type": "code",
   "execution_count": 6,
   "id": "68082e88-c498-4ab1-aa08-70ef74ef43d9",
   "metadata": {
    "tags": []
   },
   "outputs": [
    {
     "name": "stdout",
     "output_type": "stream",
     "text": [
      "Italian Restaurant found in the RDF graph:\n",
      "http://www.semanticweb.org/efrei/ontologies/2024/6/untitled-ontology-3#Pizza_Paris\n",
      "http://www.semanticweb.org/efrei/ontologies/2024/6/untitled-ontology-3#Pizzeria_Roma\n"
     ]
    }
   ],
   "source": [
    "# Look for all instances of Italian Restaurants in the graph\n",
    "Italian_Restaurants = g.subjects(RDF.type, mon_ns.Italian)\n",
    "\n",
    "# Display Italian Restaurants\n",
    "print(\"Italian Restaurant found in the RDF graph:\")\n",
    "\n",
    "for Italian in Italian_Restaurants:\n",
    "    print(Italian)\n"
   ]
  },
  {
   "cell_type": "markdown",
   "id": "c92f9a41-32cc-4a08-a874-eff82cb800f2",
   "metadata": {
    "jp-MarkdownHeadingCollapsed": true,
    "tags": []
   },
   "source": [
    "### Question 4 - Reads a name of a food and display infos"
   ]
  },
  {
   "cell_type": "code",
   "execution_count": 11,
   "id": "5c4426ab-0035-4a43-9cc2-b81ba625818b",
   "metadata": {
    "tags": []
   },
   "outputs": [
    {
     "name": "stdin",
     "output_type": "stream",
     "text": [
      "Enter the name of a food:  Pizza\n"
     ]
    },
    {
     "name": "stdout",
     "output_type": "stream",
     "text": [
      "\n",
      "Restaurants serving 'Pizza':\n",
      "http://www.semanticweb.org/efrei/ontologies/2024/6/untitled-ontology-3#Pizza_Paris\n",
      "http://www.semanticweb.org/efrei/ontologies/2024/6/untitled-ontology-3#Pizzeria_Roma\n",
      "\n",
      "Delivery services offering 'Pizza':\n",
      "http://www.semanticweb.org/efrei/ontologies/2024/6/untitled-ontology-3#Uber_It\n",
      "http://www.semanticweb.org/efrei/ontologies/2024/6/untitled-ontology-3#Deliverou\n",
      "\n",
      "Offers for 'Pizza':\n",
      "http://www.semanticweb.org/efrei/ontologies/2024/6/untitled-ontology-3#SummerOffer_2024\n",
      "http://www.semanticweb.org/efrei/ontologies/2024/6/untitled-ontology-3#Summer_Pizza\n",
      "\n",
      "Location 'Pizza':\n",
      "Lyon\n",
      "Paris\n",
      "Rome\n"
     ]
    }
   ],
   "source": [
    "# function to get food uri \n",
    "def get_food_uri(food_name):\n",
    "    for food in g.subjects (RDF.type, mon_ns.FoodProduct): \n",
    "        if (food, None, Literal (food_name)) in g:\n",
    "            return food \n",
    "        else :\n",
    "            return None\n",
    "\n",
    "# Retrieve associated data for Food name\n",
    "def get_food_details(food_uri, food_name):\n",
    "    # Retrieve restaurants serving this food\n",
    "    restaurants = g.objects(food_uri, mon_ns.hasRestaurant)\n",
    "    print(f\"\\nRestaurants serving '{food_name}':\")\n",
    "    for restaurant in restaurants:\n",
    "        print(restaurant)\n",
    "\n",
    "    # Retrieve delivery services offering this food\n",
    "    delivery_services = set(g.objects(food_uri, mon_ns.hasDeliveryService))\n",
    "    print(f\"\\nDelivery services offering '{food_name}':\")\n",
    "    for delivery_service in delivery_services:\n",
    "        print(delivery_service)\n",
    "\n",
    "    # Retrieve offers for this food\n",
    "    offers = set(g.objects(food_uri, mon_ns.hasOffer))\n",
    "    print(f\"\\nOffers for '{food_name}':\")\n",
    "    for offer in offers:\n",
    "        print(offer)\n",
    "        # Retrieve availability details for each offer\n",
    "        availability_ends = list(g.objects(offer, mon_ns.availabilityEnds))\n",
    "        for availability_end in availability_ends:\n",
    "            print(f\" - Available until: {availability_end}\")\n",
    "            \n",
    "    #Retrieve Location for this food\n",
    "    locations = set(g.objects(food_uri, mon_ns.Location))\n",
    "    print(f\"\\nLocation '{food_name}':\")\n",
    "    for location in locations:\n",
    "        print(location)\n",
    "        \n",
    "# Use the function\n",
    "food_name = input(\"Enter the name of a food: \")\n",
    "food_uri = get_food_uri(food_name)\n",
    "get_food_details(food_uri, food_name)"
   ]
  },
  {
   "cell_type": "markdown",
   "id": "62301d83-5b7f-4008-8f2c-c8e30bdd6fe5",
   "metadata": {
    "jp-MarkdownHeadingCollapsed": true,
    "tags": []
   },
   "source": [
    "### Question 5 - Displays all entities that are restaurants and delivery companies"
   ]
  },
  {
   "cell_type": "code",
   "execution_count": 15,
   "id": "7663abc2-0647-4d20-adc8-c1d879a40f6a",
   "metadata": {
    "tags": []
   },
   "outputs": [
    {
     "name": "stdout",
     "output_type": "stream",
     "text": [
      "RestDelivery entities:\n",
      "http://www.semanticweb.org/efrei/ontologies/2024/6/untitled-ontology-3#leafy_heaven\n",
      "http://www.semanticweb.org/efrei/ontologies/2024/6/untitled-ontology-3#Deliverou\n",
      "http://www.semanticweb.org/efrei/ontologies/2024/6/untitled-ontology-3#Pizzeria_Roma\n",
      "http://www.semanticweb.org/efrei/ontologies/2024/6/untitled-ontology-3#Sushi_Paris\n",
      "http://www.semanticweb.org/efrei/ontologies/2024/6/untitled-ontology-3#Uber_It\n",
      "http://www.semanticweb.org/efrei/ontologies/2024/6/untitled-ontology-3#Botanical_Bistro\n",
      "http://www.semanticweb.org/efrei/ontologies/2024/6/untitled-ontology-3#Pizza_Paris\n",
      "http://www.semanticweb.org/efrei/ontologies/2024/6/untitled-ontology-3#Earthly_Delight\n"
     ]
    }
   ],
   "source": [
    "# function to get subclasses of a class\n",
    "def get_all_subclasses(graph, class_uri):\n",
    "    subclasses = set()\n",
    "    for subclass in graph.transitive_subjects(RDFS.subClassOf, class_uri):\n",
    "        subclasses.add(subclass)\n",
    "    return subclasses\n",
    "\n",
    "# use function to get subclasses of Restaurant \n",
    "restaurant_subclasses = get_all_subclasses(g, mon_ns.Restaurant)\n",
    "\n",
    "# Store all entities of type RestDelivery\n",
    "rest_deliveries = set()\n",
    "for subclass in restaurant_subclasses:\n",
    "    for entity in g.subjects(RDF.type, subclass):\n",
    "        rest_deliveries.add(entity)\n",
    "        g.add((entity, RDF.type, mon_ns.RestDelivery))\n",
    "        \n",
    "# Get all entities of type DeliveryCompany\n",
    "for entity in g.subjects(RDF.type, mon_ns.DeliveryCompany):\n",
    "    rest_deliveries.add(entity)\n",
    "    g.add((entity, RDF.type, mon_ns.RestDelivery))\n",
    "\n",
    "# Define rules of format N3 to mark entities as RestDelivery\n",
    "rule_content = \"\"\"\n",
    "{ ?entity a ex:Restaurant } => { ?entity a ex:RestDelivery } .\n",
    "{ ?entity a ex:DeliveryCompany } => { ?entity a ex:RestDelivery } .\n",
    "\"\"\"\n",
    "# Write rules in file rest_delivery_rule.n3\n",
    "with open(\"data/rest_delivery_rule.n3\", \"w\") as file:\n",
    "    file.write(rule_content)\n",
    "    \n",
    "# Displays entities of type RestDelivery \n",
    "print(\"RestDelivery entities:\")\n",
    "for rest_delivery in rest_deliveries:\n",
    "    print(rest_delivery)"
   ]
  },
  {
   "cell_type": "markdown",
   "id": "5c2f41db-65cb-474f-b087-c3b574829bf1",
   "metadata": {
    "jp-MarkdownHeadingCollapsed": true,
    "tags": []
   },
   "source": [
    "### Question 6 - Specifies 3 different rules and implement them in a python program"
   ]
  },
  {
   "cell_type": "code",
   "execution_count": 14,
   "id": "f0e1d7fe-2a3f-4e27-9de3-003434446d51",
   "metadata": {
    "tags": []
   },
   "outputs": [
    {
     "name": "stdout",
     "output_type": "stream",
     "text": [
      "Client Instances:\n",
      "http://www.semanticweb.org/efrei/ontologies/2024/6/untitled-ontology-3#Walid\n",
      "\n",
      "Properties of 'Walid':\n",
      "http://www.w3.org/1999/02/22-rdf-syntax-ns#type: http://www.semanticweb.org/efrei/ontologies/2024/6/untitled-ontology-3#Client\n",
      "http://www.semanticweb.org/efrei/ontologies/2024/6/untitled-ontology-3#hasPreference: http://www.semanticweb.org/efrei/ontologies/2024/6/untitled-ontology-3#Pizzeria_Roma\n",
      "http://www.semanticweb.org/efrei/ontologies/2024/6/untitled-ontology-3#Location: Lyon\n",
      "\n",
      "Subclasses of 'Restaurant':\n",
      "http://www.semanticweb.org/efrei/ontologies/2024/6/untitled-ontology-3#Vegetarian\n",
      "http://www.semanticweb.org/efrei/ontologies/2024/6/untitled-ontology-3#Restaurant\n",
      "http://www.semanticweb.org/efrei/ontologies/2024/6/untitled-ontology-3#Indian\n",
      "http://www.semanticweb.org/efrei/ontologies/2024/6/untitled-ontology-3#Asian\n",
      "http://www.semanticweb.org/efrei/ontologies/2024/6/untitled-ontology-3#Italian\n",
      "http://www.semanticweb.org/efrei/ontologies/2024/6/untitled-ontology-3#FastFood\n"
     ]
    }
   ],
   "source": [
    "def get_all_subclasses(graph, class_uri):\n",
    "    subclasses = set()\n",
    "    for subclass in graph.transitive_subjects(RDFS.subClassOf, class_uri):\n",
    "        subclasses.add(subclass)\n",
    "    return subclasses\n",
    " \n",
    " \n",
    "# Rule 1: Identify and list all instances Client class\n",
    "client_instances = set()\n",
    "for entity in g.subjects(RDF.type, mon_ns.Client):\n",
    "    client_instances.add(entity)\n",
    "    g.add((entity, RDF.type, mon_ns.Client))\n",
    " \n",
    "# Rule 2: Extract and display all properties of Client \"Walid\"\n",
    "walid_properties = {}\n",
    "walid_instance = URIRef(mon_ns + \"Walid\")\n",
    "for p, o in g.predicate_objects(subject=walid_instance):\n",
    "    walid_properties[p] = o\n",
    " \n",
    "# Rule 3: Find and list all subclasses of class Restaurant\n",
    "restaurant_subclasses = get_all_subclasses(g, mon_ns.Restaurant)\n",
    " \n",
    "rule_content = \"\"\"\n",
    "@prefix ex: <http://example.org/> .\n",
    "@prefix mon: <http://www.semanticweb.org/efrei/ontologies/2024/6/untitled-ontology-3#> .\n",
    " \n",
    "# Rule 1: Identify and list all instances of a specific class (Client)\n",
    "{ ?entity a mon:Client } => { ?entity a mon:Client } .\n",
    " \n",
    "# Rule 2: Extract and display all properties associated with a specific instance of a class\n",
    "{ ?entity mon:hasPreference ?preference } => { ?entity mon:hasPreference ?preference } .\n",
    "{ ?entity mon:Location ?location } => { ?entity mon:Location ?location } .\n",
    " \n",
    "# Rule 3: Find and list all subclasses of a specific class (Restaurant)\n",
    "{ ?subclass rdfs:subClassOf mon:Restaurant } => { ?subclass rdfs:subClassOf mon:Restaurant } .\n",
    "\"\"\"\n",
    " \n",
    "with open(\"data/rules.n3\", \"w\") as file:\n",
    "    file.write(rule_content)\n",
    " \n",
    " \n",
    "print(\"Client Instances:\")\n",
    "for client in client_instances:\n",
    "    print(client)\n",
    " \n",
    "print(\"\\nProperties of 'Walid':\")\n",
    "for prop, value in walid_properties.items():\n",
    "    print(f\"{prop}: {value}\")\n",
    " \n",
    "print(\"\\nSubclasses of 'Restaurant':\")\n",
    "for subclass in restaurant_subclasses:\n",
    "    print(subclass)"
   ]
  }
 ],
 "metadata": {
  "kernelspec": {
   "display_name": "Python 3 (ipykernel)",
   "language": "python",
   "name": "python3"
  },
  "language_info": {
   "codemirror_mode": {
    "name": "ipython",
    "version": 3
   },
   "file_extension": ".py",
   "mimetype": "text/x-python",
   "name": "python",
   "nbconvert_exporter": "python",
   "pygments_lexer": "ipython3",
   "version": "3.10.11"
  }
 },
 "nbformat": 4,
 "nbformat_minor": 5
}
